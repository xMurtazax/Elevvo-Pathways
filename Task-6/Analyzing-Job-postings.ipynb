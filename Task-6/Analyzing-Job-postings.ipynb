{
 "cells": [
  {
   "cell_type": "code",
   "execution_count": 3,
   "id": "e9fc777a",
   "metadata": {},
   "outputs": [],
   "source": [
    "import pandas as pd\n",
    "import matplotlib.pyplot as plt"
   ]
  },
  {
   "cell_type": "code",
   "execution_count": null,
   "id": "f9c0edec",
   "metadata": {},
   "outputs": [
    {
     "data": {
      "application/vnd.microsoft.datawrangler.viewer.v0+json": {
       "columns": [
        {
         "name": "index",
         "rawType": "int64",
         "type": "integer"
        },
        {
         "name": "Job title",
         "rawType": "object",
         "type": "string"
        },
        {
         "name": "Company",
         "rawType": "object",
         "type": "string"
        },
        {
         "name": "Posted date",
         "rawType": "object",
         "type": "string"
        },
        {
         "name": "Skills",
         "rawType": "object",
         "type": "string"
        },
        {
         "name": "City",
         "rawType": "object",
         "type": "string"
        },
        {
         "name": "Country",
         "rawType": "object",
         "type": "string"
        }
       ],
       "ref": "1bb8be05-085f-467b-9d60-1bf6097fda6a",
       "rows": [
        [
         "0",
         "Backend Developer",
         "NextGen",
         "2025-07-30",
         "['SQL', 'Excel', 'PowerBI']",
         "Lahore",
         "Pakistan"
        ],
        [
         "1",
         "UI/UX Designer",
         "NextGen",
         "2025-07-29",
         "['Flutter', 'Dart']",
         "Lahore",
         "Pakistan"
        ],
        [
         "2",
         "Frontend Developer",
         "SoftVision",
         "2025-07-28",
         "['Selenium', 'JMeter']",
         "Karachi",
         "Pakistan"
        ],
        [
         "3",
         "Data Analyst",
         "NextGen",
         "2025-07-25",
         "['Selenium', 'JMeter']",
         "Karachi",
         "Pakistan"
        ],
        [
         "4",
         "Data Analyst",
         "DevMasters",
         "2025-07-23",
         "['Figma', 'Adobe XD', 'Sketch']",
         "Karachi",
         "Pakistan"
        ],
        [
         "5",
         "QA Engineer",
         "DataInsights",
         "2025-07-26",
         "['AWS', 'Docker', 'Kubernetes', 'CI/CD']",
         "Lahore",
         "Pakistan"
        ],
        [
         "6",
         "Machine Learning Engineer",
         "BetaSoft",
         "2025-07-31",
         "['HTML', 'CSS', 'JavaScript', 'React']",
         "Karachi",
         "Pakistan"
        ],
        [
         "7",
         "Software Engineer",
         "DevMasters",
         "2025-07-25",
         "['HTML', 'CSS', 'JavaScript', 'React']",
         "Peshawar",
         "Pakistan"
        ],
        [
         "8",
         "DevOps Engineer",
         "BetaSoft",
         "2025-07-27",
         "['Figma', 'Adobe XD', 'Sketch']",
         "Lahore",
         "Pakistan"
        ],
        [
         "9",
         "Full Stack Developer",
         "DevMasters",
         "2025-07-22",
         "['Figma', 'Adobe XD', 'Sketch']",
         "Lahore",
         "Pakistan"
        ],
        [
         "10",
         "Full Stack Developer",
         "AlphaTech",
         "2025-07-22",
         "['AWS', 'Docker', 'Kubernetes', 'CI/CD']",
         "Islamabad",
         "Pakistan"
        ],
        [
         "11",
         "Machine Learning Engineer",
         "NextGen",
         "2025-07-24",
         "['Selenium', 'JMeter']",
         "Peshawar",
         "Pakistan"
        ],
        [
         "12",
         "Software Engineer",
         "WebWorks",
         "2025-07-26",
         "['Python', 'Django', 'REST API']",
         "Karachi",
         "Pakistan"
        ],
        [
         "13",
         "Software Engineer",
         "BetaSoft",
         "2025-07-22",
         "['Figma', 'Adobe XD', 'Sketch']",
         "Karachi",
         "Pakistan"
        ],
        [
         "14",
         "Data Analyst",
         "DataInsights",
         "2025-07-22",
         "['Node.js', 'Express', 'MongoDB']",
         "Lahore",
         "Pakistan"
        ],
        [
         "15",
         "QA Engineer",
         "DataInsights",
         "2025-07-25",
         "['HTML', 'CSS', 'JavaScript', 'React']",
         "Karachi",
         "Pakistan"
        ],
        [
         "16",
         "Frontend Developer",
         "CyberSolutions",
         "2025-07-27",
         "['TensorFlow', 'PyTorch', 'Scikit-learn']",
         "Peshawar",
         "Pakistan"
        ],
        [
         "17",
         "UI/UX Designer",
         "BetaSoft",
         "2025-07-30",
         "['Java', 'Spring Boot', 'Hibernate']",
         "Karachi",
         "Pakistan"
        ],
        [
         "18",
         "UI/UX Designer",
         "SoftVision",
         "2025-07-23",
         "['HTML', 'CSS', 'JavaScript', 'React']",
         "Islamabad",
         "Pakistan"
        ],
        [
         "19",
         "DevOps Engineer",
         "WebWorks",
         "2025-07-29",
         "['Figma', 'Adobe XD', 'Sketch']",
         "Islamabad",
         "Pakistan"
        ],
        [
         "20",
         "Data Analyst",
         "SoftVision",
         "2025-07-30",
         "['Java', 'Spring Boot', 'Hibernate']",
         "Peshawar",
         "Pakistan"
        ],
        [
         "21",
         "UI/UX Designer",
         "CyberSolutions",
         "2025-07-27",
         "['Flutter', 'Dart']",
         "Peshawar",
         "Pakistan"
        ],
        [
         "22",
         "Machine Learning Engineer",
         "DevMasters",
         "2025-07-28",
         "['AWS', 'Docker', 'Kubernetes', 'CI/CD']",
         "Karachi",
         "Pakistan"
        ],
        [
         "23",
         "Data Analyst",
         "Innovatech",
         "2025-07-29",
         "['AWS', 'Docker', 'Kubernetes', 'CI/CD']",
         "Quetta",
         "Pakistan"
        ],
        [
         "24",
         "QA Engineer",
         "NextGen",
         "2025-07-27",
         "['SQL', 'Excel', 'PowerBI']",
         "Karachi",
         "Pakistan"
        ],
        [
         "25",
         "Backend Developer",
         "SoftVision",
         "2025-07-27",
         "['Node.js', 'Express', 'MongoDB']",
         "Lahore",
         "Pakistan"
        ],
        [
         "26",
         "Mobile App Developer",
         "CloudNet",
         "2025-07-27",
         "['Node.js', 'Express', 'MongoDB']",
         "Peshawar",
         "Pakistan"
        ],
        [
         "27",
         "QA Engineer",
         "SoftVision",
         "2025-07-31",
         "['Flutter', 'Dart']",
         "Lahore",
         "Pakistan"
        ],
        [
         "28",
         "UI/UX Designer",
         "CyberSolutions",
         "2025-07-21",
         "['TensorFlow', 'PyTorch', 'Scikit-learn']",
         "Lahore",
         "Pakistan"
        ],
        [
         "29",
         "Frontend Developer",
         "Innovatech",
         "2025-07-28",
         "['SQL', 'Excel', 'PowerBI']",
         "Islamabad",
         "Pakistan"
        ],
        [
         "30",
         "Software Engineer",
         "CloudNet",
         "2025-07-29",
         "['Java', 'Spring Boot', 'Hibernate']",
         "Peshawar",
         "Pakistan"
        ],
        [
         "31",
         "QA Engineer",
         "CloudNet",
         "2025-07-31",
         "['TensorFlow', 'PyTorch', 'Scikit-learn']",
         "Peshawar",
         "Pakistan"
        ],
        [
         "32",
         "Full Stack Developer",
         "WebWorks",
         "2025-07-27",
         "['AWS', 'Docker', 'Kubernetes', 'CI/CD']",
         "Islamabad",
         "Pakistan"
        ],
        [
         "33",
         "Frontend Developer",
         "CyberSolutions",
         "2025-07-30",
         "['Selenium', 'JMeter']",
         "Islamabad",
         "Pakistan"
        ],
        [
         "34",
         "DevOps Engineer",
         "DevMasters",
         "2025-07-24",
         "['AWS', 'Docker', 'Kubernetes', 'CI/CD']",
         "Lahore",
         "Pakistan"
        ],
        [
         "35",
         "Backend Developer",
         "Innovatech",
         "2025-07-23",
         "['HTML', 'CSS', 'JavaScript', 'React']",
         "Islamabad",
         "Pakistan"
        ],
        [
         "36",
         "Full Stack Developer",
         "CloudNet",
         "2025-07-30",
         "['Python', 'Django', 'REST API']",
         "Peshawar",
         "Pakistan"
        ],
        [
         "37",
         "Full Stack Developer",
         "CloudNet",
         "2025-07-27",
         "['HTML', 'CSS', 'JavaScript', 'React']",
         "Quetta",
         "Pakistan"
        ],
        [
         "38",
         "Full Stack Developer",
         "CyberSolutions",
         "2025-07-24",
         "['Node.js', 'Express', 'MongoDB']",
         "Karachi",
         "Pakistan"
        ],
        [
         "39",
         "Full Stack Developer",
         "Innovatech",
         "2025-07-21",
         "['Java', 'Spring Boot', 'Hibernate']",
         "Karachi",
         "Pakistan"
        ],
        [
         "40",
         "Backend Developer",
         "Innovatech",
         "2025-07-28",
         "['Figma', 'Adobe XD', 'Sketch']",
         "Lahore",
         "Pakistan"
        ],
        [
         "41",
         "Mobile App Developer",
         "DataInsights",
         "2025-07-31",
         "['Selenium', 'JMeter']",
         "Islamabad",
         "Pakistan"
        ],
        [
         "42",
         "Machine Learning Engineer",
         "BetaSoft",
         "2025-07-26",
         "['Node.js', 'Express', 'MongoDB']",
         "Peshawar",
         "Pakistan"
        ],
        [
         "43",
         "QA Engineer",
         "AlphaTech",
         "2025-07-23",
         "['TensorFlow', 'PyTorch', 'Scikit-learn']",
         "Lahore",
         "Pakistan"
        ],
        [
         "44",
         "Backend Developer",
         "AlphaTech",
         "2025-07-28",
         "['TensorFlow', 'PyTorch', 'Scikit-learn']",
         "Peshawar",
         "Pakistan"
        ],
        [
         "45",
         "Software Engineer",
         "CloudNet",
         "2025-07-21",
         "['Node.js', 'Express', 'MongoDB']",
         "Karachi",
         "Pakistan"
        ],
        [
         "46",
         "Software Engineer",
         "DataInsights",
         "2025-07-26",
         "['AWS', 'Docker', 'Kubernetes', 'CI/CD']",
         "Quetta",
         "Pakistan"
        ],
        [
         "47",
         "DevOps Engineer",
         "Innovatech",
         "2025-07-22",
         "['Flutter', 'Dart']",
         "Peshawar",
         "Pakistan"
        ],
        [
         "48",
         "UI/UX Designer",
         "CloudNet",
         "2025-07-26",
         "['TensorFlow', 'PyTorch', 'Scikit-learn']",
         "Lahore",
         "Pakistan"
        ],
        [
         "49",
         "Data Analyst",
         "DevMasters",
         "2025-07-29",
         "['Figma', 'Adobe XD', 'Sketch']",
         "Karachi",
         "Pakistan"
        ]
       ],
       "shape": {
        "columns": 6,
        "rows": 50
       }
      },
      "text/html": [
       "<div>\n",
       "<style scoped>\n",
       "    .dataframe tbody tr th:only-of-type {\n",
       "        vertical-align: middle;\n",
       "    }\n",
       "\n",
       "    .dataframe tbody tr th {\n",
       "        vertical-align: top;\n",
       "    }\n",
       "\n",
       "    .dataframe thead th {\n",
       "        text-align: right;\n",
       "    }\n",
       "</style>\n",
       "<table border=\"1\" class=\"dataframe\">\n",
       "  <thead>\n",
       "    <tr style=\"text-align: right;\">\n",
       "      <th></th>\n",
       "      <th>Job title</th>\n",
       "      <th>Company</th>\n",
       "      <th>Posted date</th>\n",
       "      <th>Skills</th>\n",
       "      <th>City</th>\n",
       "      <th>Country</th>\n",
       "    </tr>\n",
       "  </thead>\n",
       "  <tbody>\n",
       "    <tr>\n",
       "      <th>0</th>\n",
       "      <td>Backend Developer</td>\n",
       "      <td>NextGen</td>\n",
       "      <td>2025-07-30</td>\n",
       "      <td>['SQL', 'Excel', 'PowerBI']</td>\n",
       "      <td>Lahore</td>\n",
       "      <td>Pakistan</td>\n",
       "    </tr>\n",
       "    <tr>\n",
       "      <th>1</th>\n",
       "      <td>UI/UX Designer</td>\n",
       "      <td>NextGen</td>\n",
       "      <td>2025-07-29</td>\n",
       "      <td>['Flutter', 'Dart']</td>\n",
       "      <td>Lahore</td>\n",
       "      <td>Pakistan</td>\n",
       "    </tr>\n",
       "    <tr>\n",
       "      <th>2</th>\n",
       "      <td>Frontend Developer</td>\n",
       "      <td>SoftVision</td>\n",
       "      <td>2025-07-28</td>\n",
       "      <td>['Selenium', 'JMeter']</td>\n",
       "      <td>Karachi</td>\n",
       "      <td>Pakistan</td>\n",
       "    </tr>\n",
       "    <tr>\n",
       "      <th>3</th>\n",
       "      <td>Data Analyst</td>\n",
       "      <td>NextGen</td>\n",
       "      <td>2025-07-25</td>\n",
       "      <td>['Selenium', 'JMeter']</td>\n",
       "      <td>Karachi</td>\n",
       "      <td>Pakistan</td>\n",
       "    </tr>\n",
       "    <tr>\n",
       "      <th>4</th>\n",
       "      <td>Data Analyst</td>\n",
       "      <td>DevMasters</td>\n",
       "      <td>2025-07-23</td>\n",
       "      <td>['Figma', 'Adobe XD', 'Sketch']</td>\n",
       "      <td>Karachi</td>\n",
       "      <td>Pakistan</td>\n",
       "    </tr>\n",
       "    <tr>\n",
       "      <th>5</th>\n",
       "      <td>QA Engineer</td>\n",
       "      <td>DataInsights</td>\n",
       "      <td>2025-07-26</td>\n",
       "      <td>['AWS', 'Docker', 'Kubernetes', 'CI/CD']</td>\n",
       "      <td>Lahore</td>\n",
       "      <td>Pakistan</td>\n",
       "    </tr>\n",
       "    <tr>\n",
       "      <th>6</th>\n",
       "      <td>Machine Learning Engineer</td>\n",
       "      <td>BetaSoft</td>\n",
       "      <td>2025-07-31</td>\n",
       "      <td>['HTML', 'CSS', 'JavaScript', 'React']</td>\n",
       "      <td>Karachi</td>\n",
       "      <td>Pakistan</td>\n",
       "    </tr>\n",
       "    <tr>\n",
       "      <th>7</th>\n",
       "      <td>Software Engineer</td>\n",
       "      <td>DevMasters</td>\n",
       "      <td>2025-07-25</td>\n",
       "      <td>['HTML', 'CSS', 'JavaScript', 'React']</td>\n",
       "      <td>Peshawar</td>\n",
       "      <td>Pakistan</td>\n",
       "    </tr>\n",
       "    <tr>\n",
       "      <th>8</th>\n",
       "      <td>DevOps Engineer</td>\n",
       "      <td>BetaSoft</td>\n",
       "      <td>2025-07-27</td>\n",
       "      <td>['Figma', 'Adobe XD', 'Sketch']</td>\n",
       "      <td>Lahore</td>\n",
       "      <td>Pakistan</td>\n",
       "    </tr>\n",
       "    <tr>\n",
       "      <th>9</th>\n",
       "      <td>Full Stack Developer</td>\n",
       "      <td>DevMasters</td>\n",
       "      <td>2025-07-22</td>\n",
       "      <td>['Figma', 'Adobe XD', 'Sketch']</td>\n",
       "      <td>Lahore</td>\n",
       "      <td>Pakistan</td>\n",
       "    </tr>\n",
       "    <tr>\n",
       "      <th>10</th>\n",
       "      <td>Full Stack Developer</td>\n",
       "      <td>AlphaTech</td>\n",
       "      <td>2025-07-22</td>\n",
       "      <td>['AWS', 'Docker', 'Kubernetes', 'CI/CD']</td>\n",
       "      <td>Islamabad</td>\n",
       "      <td>Pakistan</td>\n",
       "    </tr>\n",
       "    <tr>\n",
       "      <th>11</th>\n",
       "      <td>Machine Learning Engineer</td>\n",
       "      <td>NextGen</td>\n",
       "      <td>2025-07-24</td>\n",
       "      <td>['Selenium', 'JMeter']</td>\n",
       "      <td>Peshawar</td>\n",
       "      <td>Pakistan</td>\n",
       "    </tr>\n",
       "    <tr>\n",
       "      <th>12</th>\n",
       "      <td>Software Engineer</td>\n",
       "      <td>WebWorks</td>\n",
       "      <td>2025-07-26</td>\n",
       "      <td>['Python', 'Django', 'REST API']</td>\n",
       "      <td>Karachi</td>\n",
       "      <td>Pakistan</td>\n",
       "    </tr>\n",
       "    <tr>\n",
       "      <th>13</th>\n",
       "      <td>Software Engineer</td>\n",
       "      <td>BetaSoft</td>\n",
       "      <td>2025-07-22</td>\n",
       "      <td>['Figma', 'Adobe XD', 'Sketch']</td>\n",
       "      <td>Karachi</td>\n",
       "      <td>Pakistan</td>\n",
       "    </tr>\n",
       "    <tr>\n",
       "      <th>14</th>\n",
       "      <td>Data Analyst</td>\n",
       "      <td>DataInsights</td>\n",
       "      <td>2025-07-22</td>\n",
       "      <td>['Node.js', 'Express', 'MongoDB']</td>\n",
       "      <td>Lahore</td>\n",
       "      <td>Pakistan</td>\n",
       "    </tr>\n",
       "    <tr>\n",
       "      <th>15</th>\n",
       "      <td>QA Engineer</td>\n",
       "      <td>DataInsights</td>\n",
       "      <td>2025-07-25</td>\n",
       "      <td>['HTML', 'CSS', 'JavaScript', 'React']</td>\n",
       "      <td>Karachi</td>\n",
       "      <td>Pakistan</td>\n",
       "    </tr>\n",
       "    <tr>\n",
       "      <th>16</th>\n",
       "      <td>Frontend Developer</td>\n",
       "      <td>CyberSolutions</td>\n",
       "      <td>2025-07-27</td>\n",
       "      <td>['TensorFlow', 'PyTorch', 'Scikit-learn']</td>\n",
       "      <td>Peshawar</td>\n",
       "      <td>Pakistan</td>\n",
       "    </tr>\n",
       "    <tr>\n",
       "      <th>17</th>\n",
       "      <td>UI/UX Designer</td>\n",
       "      <td>BetaSoft</td>\n",
       "      <td>2025-07-30</td>\n",
       "      <td>['Java', 'Spring Boot', 'Hibernate']</td>\n",
       "      <td>Karachi</td>\n",
       "      <td>Pakistan</td>\n",
       "    </tr>\n",
       "    <tr>\n",
       "      <th>18</th>\n",
       "      <td>UI/UX Designer</td>\n",
       "      <td>SoftVision</td>\n",
       "      <td>2025-07-23</td>\n",
       "      <td>['HTML', 'CSS', 'JavaScript', 'React']</td>\n",
       "      <td>Islamabad</td>\n",
       "      <td>Pakistan</td>\n",
       "    </tr>\n",
       "    <tr>\n",
       "      <th>19</th>\n",
       "      <td>DevOps Engineer</td>\n",
       "      <td>WebWorks</td>\n",
       "      <td>2025-07-29</td>\n",
       "      <td>['Figma', 'Adobe XD', 'Sketch']</td>\n",
       "      <td>Islamabad</td>\n",
       "      <td>Pakistan</td>\n",
       "    </tr>\n",
       "    <tr>\n",
       "      <th>20</th>\n",
       "      <td>Data Analyst</td>\n",
       "      <td>SoftVision</td>\n",
       "      <td>2025-07-30</td>\n",
       "      <td>['Java', 'Spring Boot', 'Hibernate']</td>\n",
       "      <td>Peshawar</td>\n",
       "      <td>Pakistan</td>\n",
       "    </tr>\n",
       "    <tr>\n",
       "      <th>21</th>\n",
       "      <td>UI/UX Designer</td>\n",
       "      <td>CyberSolutions</td>\n",
       "      <td>2025-07-27</td>\n",
       "      <td>['Flutter', 'Dart']</td>\n",
       "      <td>Peshawar</td>\n",
       "      <td>Pakistan</td>\n",
       "    </tr>\n",
       "    <tr>\n",
       "      <th>22</th>\n",
       "      <td>Machine Learning Engineer</td>\n",
       "      <td>DevMasters</td>\n",
       "      <td>2025-07-28</td>\n",
       "      <td>['AWS', 'Docker', 'Kubernetes', 'CI/CD']</td>\n",
       "      <td>Karachi</td>\n",
       "      <td>Pakistan</td>\n",
       "    </tr>\n",
       "    <tr>\n",
       "      <th>23</th>\n",
       "      <td>Data Analyst</td>\n",
       "      <td>Innovatech</td>\n",
       "      <td>2025-07-29</td>\n",
       "      <td>['AWS', 'Docker', 'Kubernetes', 'CI/CD']</td>\n",
       "      <td>Quetta</td>\n",
       "      <td>Pakistan</td>\n",
       "    </tr>\n",
       "    <tr>\n",
       "      <th>24</th>\n",
       "      <td>QA Engineer</td>\n",
       "      <td>NextGen</td>\n",
       "      <td>2025-07-27</td>\n",
       "      <td>['SQL', 'Excel', 'PowerBI']</td>\n",
       "      <td>Karachi</td>\n",
       "      <td>Pakistan</td>\n",
       "    </tr>\n",
       "    <tr>\n",
       "      <th>25</th>\n",
       "      <td>Backend Developer</td>\n",
       "      <td>SoftVision</td>\n",
       "      <td>2025-07-27</td>\n",
       "      <td>['Node.js', 'Express', 'MongoDB']</td>\n",
       "      <td>Lahore</td>\n",
       "      <td>Pakistan</td>\n",
       "    </tr>\n",
       "    <tr>\n",
       "      <th>26</th>\n",
       "      <td>Mobile App Developer</td>\n",
       "      <td>CloudNet</td>\n",
       "      <td>2025-07-27</td>\n",
       "      <td>['Node.js', 'Express', 'MongoDB']</td>\n",
       "      <td>Peshawar</td>\n",
       "      <td>Pakistan</td>\n",
       "    </tr>\n",
       "    <tr>\n",
       "      <th>27</th>\n",
       "      <td>QA Engineer</td>\n",
       "      <td>SoftVision</td>\n",
       "      <td>2025-07-31</td>\n",
       "      <td>['Flutter', 'Dart']</td>\n",
       "      <td>Lahore</td>\n",
       "      <td>Pakistan</td>\n",
       "    </tr>\n",
       "    <tr>\n",
       "      <th>28</th>\n",
       "      <td>UI/UX Designer</td>\n",
       "      <td>CyberSolutions</td>\n",
       "      <td>2025-07-21</td>\n",
       "      <td>['TensorFlow', 'PyTorch', 'Scikit-learn']</td>\n",
       "      <td>Lahore</td>\n",
       "      <td>Pakistan</td>\n",
       "    </tr>\n",
       "    <tr>\n",
       "      <th>29</th>\n",
       "      <td>Frontend Developer</td>\n",
       "      <td>Innovatech</td>\n",
       "      <td>2025-07-28</td>\n",
       "      <td>['SQL', 'Excel', 'PowerBI']</td>\n",
       "      <td>Islamabad</td>\n",
       "      <td>Pakistan</td>\n",
       "    </tr>\n",
       "    <tr>\n",
       "      <th>30</th>\n",
       "      <td>Software Engineer</td>\n",
       "      <td>CloudNet</td>\n",
       "      <td>2025-07-29</td>\n",
       "      <td>['Java', 'Spring Boot', 'Hibernate']</td>\n",
       "      <td>Peshawar</td>\n",
       "      <td>Pakistan</td>\n",
       "    </tr>\n",
       "    <tr>\n",
       "      <th>31</th>\n",
       "      <td>QA Engineer</td>\n",
       "      <td>CloudNet</td>\n",
       "      <td>2025-07-31</td>\n",
       "      <td>['TensorFlow', 'PyTorch', 'Scikit-learn']</td>\n",
       "      <td>Peshawar</td>\n",
       "      <td>Pakistan</td>\n",
       "    </tr>\n",
       "    <tr>\n",
       "      <th>32</th>\n",
       "      <td>Full Stack Developer</td>\n",
       "      <td>WebWorks</td>\n",
       "      <td>2025-07-27</td>\n",
       "      <td>['AWS', 'Docker', 'Kubernetes', 'CI/CD']</td>\n",
       "      <td>Islamabad</td>\n",
       "      <td>Pakistan</td>\n",
       "    </tr>\n",
       "    <tr>\n",
       "      <th>33</th>\n",
       "      <td>Frontend Developer</td>\n",
       "      <td>CyberSolutions</td>\n",
       "      <td>2025-07-30</td>\n",
       "      <td>['Selenium', 'JMeter']</td>\n",
       "      <td>Islamabad</td>\n",
       "      <td>Pakistan</td>\n",
       "    </tr>\n",
       "    <tr>\n",
       "      <th>34</th>\n",
       "      <td>DevOps Engineer</td>\n",
       "      <td>DevMasters</td>\n",
       "      <td>2025-07-24</td>\n",
       "      <td>['AWS', 'Docker', 'Kubernetes', 'CI/CD']</td>\n",
       "      <td>Lahore</td>\n",
       "      <td>Pakistan</td>\n",
       "    </tr>\n",
       "    <tr>\n",
       "      <th>35</th>\n",
       "      <td>Backend Developer</td>\n",
       "      <td>Innovatech</td>\n",
       "      <td>2025-07-23</td>\n",
       "      <td>['HTML', 'CSS', 'JavaScript', 'React']</td>\n",
       "      <td>Islamabad</td>\n",
       "      <td>Pakistan</td>\n",
       "    </tr>\n",
       "    <tr>\n",
       "      <th>36</th>\n",
       "      <td>Full Stack Developer</td>\n",
       "      <td>CloudNet</td>\n",
       "      <td>2025-07-30</td>\n",
       "      <td>['Python', 'Django', 'REST API']</td>\n",
       "      <td>Peshawar</td>\n",
       "      <td>Pakistan</td>\n",
       "    </tr>\n",
       "    <tr>\n",
       "      <th>37</th>\n",
       "      <td>Full Stack Developer</td>\n",
       "      <td>CloudNet</td>\n",
       "      <td>2025-07-27</td>\n",
       "      <td>['HTML', 'CSS', 'JavaScript', 'React']</td>\n",
       "      <td>Quetta</td>\n",
       "      <td>Pakistan</td>\n",
       "    </tr>\n",
       "    <tr>\n",
       "      <th>38</th>\n",
       "      <td>Full Stack Developer</td>\n",
       "      <td>CyberSolutions</td>\n",
       "      <td>2025-07-24</td>\n",
       "      <td>['Node.js', 'Express', 'MongoDB']</td>\n",
       "      <td>Karachi</td>\n",
       "      <td>Pakistan</td>\n",
       "    </tr>\n",
       "    <tr>\n",
       "      <th>39</th>\n",
       "      <td>Full Stack Developer</td>\n",
       "      <td>Innovatech</td>\n",
       "      <td>2025-07-21</td>\n",
       "      <td>['Java', 'Spring Boot', 'Hibernate']</td>\n",
       "      <td>Karachi</td>\n",
       "      <td>Pakistan</td>\n",
       "    </tr>\n",
       "    <tr>\n",
       "      <th>40</th>\n",
       "      <td>Backend Developer</td>\n",
       "      <td>Innovatech</td>\n",
       "      <td>2025-07-28</td>\n",
       "      <td>['Figma', 'Adobe XD', 'Sketch']</td>\n",
       "      <td>Lahore</td>\n",
       "      <td>Pakistan</td>\n",
       "    </tr>\n",
       "    <tr>\n",
       "      <th>41</th>\n",
       "      <td>Mobile App Developer</td>\n",
       "      <td>DataInsights</td>\n",
       "      <td>2025-07-31</td>\n",
       "      <td>['Selenium', 'JMeter']</td>\n",
       "      <td>Islamabad</td>\n",
       "      <td>Pakistan</td>\n",
       "    </tr>\n",
       "    <tr>\n",
       "      <th>42</th>\n",
       "      <td>Machine Learning Engineer</td>\n",
       "      <td>BetaSoft</td>\n",
       "      <td>2025-07-26</td>\n",
       "      <td>['Node.js', 'Express', 'MongoDB']</td>\n",
       "      <td>Peshawar</td>\n",
       "      <td>Pakistan</td>\n",
       "    </tr>\n",
       "    <tr>\n",
       "      <th>43</th>\n",
       "      <td>QA Engineer</td>\n",
       "      <td>AlphaTech</td>\n",
       "      <td>2025-07-23</td>\n",
       "      <td>['TensorFlow', 'PyTorch', 'Scikit-learn']</td>\n",
       "      <td>Lahore</td>\n",
       "      <td>Pakistan</td>\n",
       "    </tr>\n",
       "    <tr>\n",
       "      <th>44</th>\n",
       "      <td>Backend Developer</td>\n",
       "      <td>AlphaTech</td>\n",
       "      <td>2025-07-28</td>\n",
       "      <td>['TensorFlow', 'PyTorch', 'Scikit-learn']</td>\n",
       "      <td>Peshawar</td>\n",
       "      <td>Pakistan</td>\n",
       "    </tr>\n",
       "    <tr>\n",
       "      <th>45</th>\n",
       "      <td>Software Engineer</td>\n",
       "      <td>CloudNet</td>\n",
       "      <td>2025-07-21</td>\n",
       "      <td>['Node.js', 'Express', 'MongoDB']</td>\n",
       "      <td>Karachi</td>\n",
       "      <td>Pakistan</td>\n",
       "    </tr>\n",
       "    <tr>\n",
       "      <th>46</th>\n",
       "      <td>Software Engineer</td>\n",
       "      <td>DataInsights</td>\n",
       "      <td>2025-07-26</td>\n",
       "      <td>['AWS', 'Docker', 'Kubernetes', 'CI/CD']</td>\n",
       "      <td>Quetta</td>\n",
       "      <td>Pakistan</td>\n",
       "    </tr>\n",
       "    <tr>\n",
       "      <th>47</th>\n",
       "      <td>DevOps Engineer</td>\n",
       "      <td>Innovatech</td>\n",
       "      <td>2025-07-22</td>\n",
       "      <td>['Flutter', 'Dart']</td>\n",
       "      <td>Peshawar</td>\n",
       "      <td>Pakistan</td>\n",
       "    </tr>\n",
       "    <tr>\n",
       "      <th>48</th>\n",
       "      <td>UI/UX Designer</td>\n",
       "      <td>CloudNet</td>\n",
       "      <td>2025-07-26</td>\n",
       "      <td>['TensorFlow', 'PyTorch', 'Scikit-learn']</td>\n",
       "      <td>Lahore</td>\n",
       "      <td>Pakistan</td>\n",
       "    </tr>\n",
       "    <tr>\n",
       "      <th>49</th>\n",
       "      <td>Data Analyst</td>\n",
       "      <td>DevMasters</td>\n",
       "      <td>2025-07-29</td>\n",
       "      <td>['Figma', 'Adobe XD', 'Sketch']</td>\n",
       "      <td>Karachi</td>\n",
       "      <td>Pakistan</td>\n",
       "    </tr>\n",
       "  </tbody>\n",
       "</table>\n",
       "</div>"
      ],
      "text/plain": [
       "                    Job title         Company Posted date  \\\n",
       "0           Backend Developer         NextGen  2025-07-30   \n",
       "1              UI/UX Designer         NextGen  2025-07-29   \n",
       "2          Frontend Developer      SoftVision  2025-07-28   \n",
       "3                Data Analyst         NextGen  2025-07-25   \n",
       "4                Data Analyst      DevMasters  2025-07-23   \n",
       "5                 QA Engineer    DataInsights  2025-07-26   \n",
       "6   Machine Learning Engineer        BetaSoft  2025-07-31   \n",
       "7           Software Engineer      DevMasters  2025-07-25   \n",
       "8             DevOps Engineer        BetaSoft  2025-07-27   \n",
       "9        Full Stack Developer      DevMasters  2025-07-22   \n",
       "10       Full Stack Developer       AlphaTech  2025-07-22   \n",
       "11  Machine Learning Engineer         NextGen  2025-07-24   \n",
       "12          Software Engineer        WebWorks  2025-07-26   \n",
       "13          Software Engineer        BetaSoft  2025-07-22   \n",
       "14               Data Analyst    DataInsights  2025-07-22   \n",
       "15                QA Engineer    DataInsights  2025-07-25   \n",
       "16         Frontend Developer  CyberSolutions  2025-07-27   \n",
       "17             UI/UX Designer        BetaSoft  2025-07-30   \n",
       "18             UI/UX Designer      SoftVision  2025-07-23   \n",
       "19            DevOps Engineer        WebWorks  2025-07-29   \n",
       "20               Data Analyst      SoftVision  2025-07-30   \n",
       "21             UI/UX Designer  CyberSolutions  2025-07-27   \n",
       "22  Machine Learning Engineer      DevMasters  2025-07-28   \n",
       "23               Data Analyst      Innovatech  2025-07-29   \n",
       "24                QA Engineer         NextGen  2025-07-27   \n",
       "25          Backend Developer      SoftVision  2025-07-27   \n",
       "26       Mobile App Developer        CloudNet  2025-07-27   \n",
       "27                QA Engineer      SoftVision  2025-07-31   \n",
       "28             UI/UX Designer  CyberSolutions  2025-07-21   \n",
       "29         Frontend Developer      Innovatech  2025-07-28   \n",
       "30          Software Engineer        CloudNet  2025-07-29   \n",
       "31                QA Engineer        CloudNet  2025-07-31   \n",
       "32       Full Stack Developer        WebWorks  2025-07-27   \n",
       "33         Frontend Developer  CyberSolutions  2025-07-30   \n",
       "34            DevOps Engineer      DevMasters  2025-07-24   \n",
       "35          Backend Developer      Innovatech  2025-07-23   \n",
       "36       Full Stack Developer        CloudNet  2025-07-30   \n",
       "37       Full Stack Developer        CloudNet  2025-07-27   \n",
       "38       Full Stack Developer  CyberSolutions  2025-07-24   \n",
       "39       Full Stack Developer      Innovatech  2025-07-21   \n",
       "40          Backend Developer      Innovatech  2025-07-28   \n",
       "41       Mobile App Developer    DataInsights  2025-07-31   \n",
       "42  Machine Learning Engineer        BetaSoft  2025-07-26   \n",
       "43                QA Engineer       AlphaTech  2025-07-23   \n",
       "44          Backend Developer       AlphaTech  2025-07-28   \n",
       "45          Software Engineer        CloudNet  2025-07-21   \n",
       "46          Software Engineer    DataInsights  2025-07-26   \n",
       "47            DevOps Engineer      Innovatech  2025-07-22   \n",
       "48             UI/UX Designer        CloudNet  2025-07-26   \n",
       "49               Data Analyst      DevMasters  2025-07-29   \n",
       "\n",
       "                                       Skills       City   Country  \n",
       "0                 ['SQL', 'Excel', 'PowerBI']     Lahore  Pakistan  \n",
       "1                         ['Flutter', 'Dart']     Lahore  Pakistan  \n",
       "2                      ['Selenium', 'JMeter']    Karachi  Pakistan  \n",
       "3                      ['Selenium', 'JMeter']    Karachi  Pakistan  \n",
       "4             ['Figma', 'Adobe XD', 'Sketch']    Karachi  Pakistan  \n",
       "5    ['AWS', 'Docker', 'Kubernetes', 'CI/CD']     Lahore  Pakistan  \n",
       "6      ['HTML', 'CSS', 'JavaScript', 'React']    Karachi  Pakistan  \n",
       "7      ['HTML', 'CSS', 'JavaScript', 'React']   Peshawar  Pakistan  \n",
       "8             ['Figma', 'Adobe XD', 'Sketch']     Lahore  Pakistan  \n",
       "9             ['Figma', 'Adobe XD', 'Sketch']     Lahore  Pakistan  \n",
       "10   ['AWS', 'Docker', 'Kubernetes', 'CI/CD']  Islamabad  Pakistan  \n",
       "11                     ['Selenium', 'JMeter']   Peshawar  Pakistan  \n",
       "12           ['Python', 'Django', 'REST API']    Karachi  Pakistan  \n",
       "13            ['Figma', 'Adobe XD', 'Sketch']    Karachi  Pakistan  \n",
       "14          ['Node.js', 'Express', 'MongoDB']     Lahore  Pakistan  \n",
       "15     ['HTML', 'CSS', 'JavaScript', 'React']    Karachi  Pakistan  \n",
       "16  ['TensorFlow', 'PyTorch', 'Scikit-learn']   Peshawar  Pakistan  \n",
       "17       ['Java', 'Spring Boot', 'Hibernate']    Karachi  Pakistan  \n",
       "18     ['HTML', 'CSS', 'JavaScript', 'React']  Islamabad  Pakistan  \n",
       "19            ['Figma', 'Adobe XD', 'Sketch']  Islamabad  Pakistan  \n",
       "20       ['Java', 'Spring Boot', 'Hibernate']   Peshawar  Pakistan  \n",
       "21                        ['Flutter', 'Dart']   Peshawar  Pakistan  \n",
       "22   ['AWS', 'Docker', 'Kubernetes', 'CI/CD']    Karachi  Pakistan  \n",
       "23   ['AWS', 'Docker', 'Kubernetes', 'CI/CD']     Quetta  Pakistan  \n",
       "24                ['SQL', 'Excel', 'PowerBI']    Karachi  Pakistan  \n",
       "25          ['Node.js', 'Express', 'MongoDB']     Lahore  Pakistan  \n",
       "26          ['Node.js', 'Express', 'MongoDB']   Peshawar  Pakistan  \n",
       "27                        ['Flutter', 'Dart']     Lahore  Pakistan  \n",
       "28  ['TensorFlow', 'PyTorch', 'Scikit-learn']     Lahore  Pakistan  \n",
       "29                ['SQL', 'Excel', 'PowerBI']  Islamabad  Pakistan  \n",
       "30       ['Java', 'Spring Boot', 'Hibernate']   Peshawar  Pakistan  \n",
       "31  ['TensorFlow', 'PyTorch', 'Scikit-learn']   Peshawar  Pakistan  \n",
       "32   ['AWS', 'Docker', 'Kubernetes', 'CI/CD']  Islamabad  Pakistan  \n",
       "33                     ['Selenium', 'JMeter']  Islamabad  Pakistan  \n",
       "34   ['AWS', 'Docker', 'Kubernetes', 'CI/CD']     Lahore  Pakistan  \n",
       "35     ['HTML', 'CSS', 'JavaScript', 'React']  Islamabad  Pakistan  \n",
       "36           ['Python', 'Django', 'REST API']   Peshawar  Pakistan  \n",
       "37     ['HTML', 'CSS', 'JavaScript', 'React']     Quetta  Pakistan  \n",
       "38          ['Node.js', 'Express', 'MongoDB']    Karachi  Pakistan  \n",
       "39       ['Java', 'Spring Boot', 'Hibernate']    Karachi  Pakistan  \n",
       "40            ['Figma', 'Adobe XD', 'Sketch']     Lahore  Pakistan  \n",
       "41                     ['Selenium', 'JMeter']  Islamabad  Pakistan  \n",
       "42          ['Node.js', 'Express', 'MongoDB']   Peshawar  Pakistan  \n",
       "43  ['TensorFlow', 'PyTorch', 'Scikit-learn']     Lahore  Pakistan  \n",
       "44  ['TensorFlow', 'PyTorch', 'Scikit-learn']   Peshawar  Pakistan  \n",
       "45          ['Node.js', 'Express', 'MongoDB']    Karachi  Pakistan  \n",
       "46   ['AWS', 'Docker', 'Kubernetes', 'CI/CD']     Quetta  Pakistan  \n",
       "47                        ['Flutter', 'Dart']   Peshawar  Pakistan  \n",
       "48  ['TensorFlow', 'PyTorch', 'Scikit-learn']     Lahore  Pakistan  \n",
       "49            ['Figma', 'Adobe XD', 'Sketch']    Karachi  Pakistan  "
      ]
     },
     "execution_count": 4,
     "metadata": {},
     "output_type": "execute_result"
    }
   ],
   "source": [
    "df = pd.read_csv('job_listings.csv')\n",
    "df"
   ]
  },
  {
   "cell_type": "markdown",
   "id": "95d0ce32",
   "metadata": {},
   "source": [
    "### Convert stringed list into actual python list"
   ]
  },
  {
   "cell_type": "code",
   "execution_count": 5,
   "id": "9ce169b0",
   "metadata": {},
   "outputs": [],
   "source": [
    "import ast\n",
    "\n",
    "df['Skills'] = df['Skills'].apply(ast.literal_eval)"
   ]
  },
  {
   "cell_type": "markdown",
   "id": "c6bc1dbb",
   "metadata": {},
   "source": [
    "### Number of companies in each city"
   ]
  },
  {
   "cell_type": "code",
   "execution_count": 6,
   "id": "6e402a7d",
   "metadata": {},
   "outputs": [
    {
     "data": {
      "application/vnd.microsoft.datawrangler.viewer.v0+json": {
       "columns": [
        {
         "name": "City",
         "rawType": "object",
         "type": "string"
        },
        {
         "name": "Company",
         "rawType": "int64",
         "type": "integer"
        }
       ],
       "ref": "0894e55e-8725-436f-86c4-01e6bd807dbc",
       "rows": [
        [
         "Karachi",
         "9"
        ],
        [
         "Lahore",
         "9"
        ],
        [
         "Peshawar",
         "8"
        ],
        [
         "Islamabad",
         "6"
        ],
        [
         "Quetta",
         "3"
        ]
       ],
       "shape": {
        "columns": 1,
        "rows": 5
       }
      },
      "text/plain": [
       "City\n",
       "Karachi      9\n",
       "Lahore       9\n",
       "Peshawar     8\n",
       "Islamabad    6\n",
       "Quetta       3\n",
       "Name: Company, dtype: int64"
      ]
     },
     "execution_count": 6,
     "metadata": {},
     "output_type": "execute_result"
    }
   ],
   "source": [
    "number_of_companies_per_city = df.groupby('City')['Company'].nunique().sort_values(ascending = False)\n",
    "number_of_companies_per_city"
   ]
  },
  {
   "cell_type": "markdown",
   "id": "9d56a76e",
   "metadata": {},
   "source": [
    "### Most demanding Roles"
   ]
  },
  {
   "cell_type": "code",
   "execution_count": 8,
   "id": "c71c5c89",
   "metadata": {},
   "outputs": [
    {
     "data": {
      "application/vnd.microsoft.datawrangler.viewer.v0+json": {
       "columns": [
        {
         "name": "Job title",
         "rawType": "object",
         "type": "string"
        },
        {
         "name": "count",
         "rawType": "int64",
         "type": "integer"
        }
       ],
       "ref": "6e9a67d6-68de-42ff-b97e-45d867abc19b",
       "rows": [
        [
         "Full Stack Developer",
         "7"
        ],
        [
         "UI/UX Designer",
         "6"
        ],
        [
         "Software Engineer",
         "6"
        ],
        [
         "Data Analyst",
         "6"
        ],
        [
         "QA Engineer",
         "6"
        ],
        [
         "Backend Developer",
         "5"
        ],
        [
         "Machine Learning Engineer",
         "4"
        ],
        [
         "Frontend Developer",
         "4"
        ],
        [
         "DevOps Engineer",
         "4"
        ],
        [
         "Mobile App Developer",
         "2"
        ]
       ],
       "shape": {
        "columns": 1,
        "rows": 10
       }
      },
      "text/plain": [
       "Job title\n",
       "Full Stack Developer         7\n",
       "UI/UX Designer               6\n",
       "Software Engineer            6\n",
       "Data Analyst                 6\n",
       "QA Engineer                  6\n",
       "Backend Developer            5\n",
       "Machine Learning Engineer    4\n",
       "Frontend Developer           4\n",
       "DevOps Engineer              4\n",
       "Mobile App Developer         2\n",
       "Name: count, dtype: int64"
      ]
     },
     "execution_count": 8,
     "metadata": {},
     "output_type": "execute_result"
    }
   ],
   "source": [
    "most_demanding_roles = df['Job title'].value_counts().sort_values(ascending = False)\n",
    "most_demanding_roles"
   ]
  },
  {
   "cell_type": "markdown",
   "id": "309a7155",
   "metadata": {},
   "source": [
    "### Most demanding Skills"
   ]
  },
  {
   "cell_type": "code",
   "execution_count": 9,
   "id": "99f7de4b",
   "metadata": {},
   "outputs": [
    {
     "data": {
      "application/vnd.microsoft.datawrangler.viewer.v0+json": {
       "columns": [
        {
         "name": "index",
         "rawType": "object",
         "type": "string"
        },
        {
         "name": "count",
         "rawType": "int64",
         "type": "integer"
        }
       ],
       "ref": "6243a70a-c372-4353-bc57-cb0c638f2a2c",
       "rows": [
        [
         "Docker",
         "7"
        ],
        [
         "Kubernetes",
         "7"
        ],
        [
         "AWS",
         "7"
        ],
        [
         "Sketch",
         "7"
        ],
        [
         "Adobe XD",
         "7"
        ],
        [
         "Figma",
         "7"
        ],
        [
         "CI/CD",
         "7"
        ],
        [
         "MongoDB",
         "6"
        ],
        [
         "TensorFlow",
         "6"
        ],
        [
         "Node.js",
         "6"
        ],
        [
         "React",
         "6"
        ],
        [
         "JavaScript",
         "6"
        ],
        [
         "CSS",
         "6"
        ],
        [
         "HTML",
         "6"
        ],
        [
         "Scikit-learn",
         "6"
        ],
        [
         "PyTorch",
         "6"
        ],
        [
         "Express",
         "6"
        ],
        [
         "Selenium",
         "5"
        ],
        [
         "JMeter",
         "5"
        ],
        [
         "Flutter",
         "4"
        ],
        [
         "Spring Boot",
         "4"
        ],
        [
         "Dart",
         "4"
        ],
        [
         "Hibernate",
         "4"
        ],
        [
         "Java",
         "4"
        ],
        [
         "PowerBI",
         "3"
        ],
        [
         "SQL",
         "3"
        ],
        [
         "Excel",
         "3"
        ],
        [
         "REST API",
         "2"
        ],
        [
         "Python",
         "2"
        ],
        [
         "Django",
         "2"
        ]
       ],
       "shape": {
        "columns": 1,
        "rows": 30
       }
      },
      "text/plain": [
       "Docker          7\n",
       "Kubernetes      7\n",
       "AWS             7\n",
       "Sketch          7\n",
       "Adobe XD        7\n",
       "Figma           7\n",
       "CI/CD           7\n",
       "MongoDB         6\n",
       "TensorFlow      6\n",
       "Node.js         6\n",
       "React           6\n",
       "JavaScript      6\n",
       "CSS             6\n",
       "HTML            6\n",
       "Scikit-learn    6\n",
       "PyTorch         6\n",
       "Express         6\n",
       "Selenium        5\n",
       "JMeter          5\n",
       "Flutter         4\n",
       "Spring Boot     4\n",
       "Dart            4\n",
       "Hibernate       4\n",
       "Java            4\n",
       "PowerBI         3\n",
       "SQL             3\n",
       "Excel           3\n",
       "REST API        2\n",
       "Python          2\n",
       "Django          2\n",
       "Name: count, dtype: int64"
      ]
     },
     "execution_count": 9,
     "metadata": {},
     "output_type": "execute_result"
    }
   ],
   "source": [
    "most_demanding_skills = pd.Series(df.Skills.sum()).value_counts()\n",
    "most_demanding_skills"
   ]
  },
  {
   "cell_type": "markdown",
   "id": "c37059b5",
   "metadata": {},
   "source": [
    "### Frequent skills by city"
   ]
  },
  {
   "cell_type": "code",
   "execution_count": 35,
   "id": "605fdd41",
   "metadata": {},
   "outputs": [
    {
     "data": {
      "application/vnd.microsoft.datawrangler.viewer.v0+json": {
       "columns": [
        {
         "name": "index",
         "rawType": "object",
         "type": "string"
        },
        {
         "name": "count",
         "rawType": "int64",
         "type": "integer"
        }
       ],
       "ref": "a05bb9d2-54ce-4c9e-b875-5913d120623e",
       "rows": [
        [
         "Figma",
         "3"
        ],
        [
         "Sketch",
         "3"
        ],
        [
         "Adobe XD",
         "3"
        ],
        [
         "Selenium",
         "2"
        ],
        [
         "JMeter",
         "2"
        ],
        [
         "HTML",
         "2"
        ],
        [
         "CSS",
         "2"
        ],
        [
         "JavaScript",
         "2"
        ],
        [
         "React",
         "2"
        ],
        [
         "Java",
         "2"
        ],
        [
         "Spring Boot",
         "2"
        ],
        [
         "Hibernate",
         "2"
        ],
        [
         "Express",
         "2"
        ],
        [
         "MongoDB",
         "2"
        ],
        [
         "Node.js",
         "2"
        ],
        [
         "REST API",
         "1"
        ],
        [
         "Python",
         "1"
        ],
        [
         "Docker",
         "1"
        ],
        [
         "AWS",
         "1"
        ],
        [
         "Django",
         "1"
        ],
        [
         "Kubernetes",
         "1"
        ],
        [
         "Excel",
         "1"
        ],
        [
         "SQL",
         "1"
        ],
        [
         "CI/CD",
         "1"
        ],
        [
         "PowerBI",
         "1"
        ]
       ],
       "shape": {
        "columns": 1,
        "rows": 25
       }
      },
      "text/plain": [
       "Figma          3\n",
       "Sketch         3\n",
       "Adobe XD       3\n",
       "Selenium       2\n",
       "JMeter         2\n",
       "HTML           2\n",
       "CSS            2\n",
       "JavaScript     2\n",
       "React          2\n",
       "Java           2\n",
       "Spring Boot    2\n",
       "Hibernate      2\n",
       "Express        2\n",
       "MongoDB        2\n",
       "Node.js        2\n",
       "REST API       1\n",
       "Python         1\n",
       "Docker         1\n",
       "AWS            1\n",
       "Django         1\n",
       "Kubernetes     1\n",
       "Excel          1\n",
       "SQL            1\n",
       "CI/CD          1\n",
       "PowerBI        1\n",
       "Name: count, dtype: int64"
      ]
     },
     "execution_count": 35,
     "metadata": {},
     "output_type": "execute_result"
    }
   ],
   "source": [
    "karachi_skill_frequency = pd.Series(df[df['City'] == 'Karachi']['Skills'].sum()).value_counts()\n",
    "karachi_skill_frequency"
   ]
  },
  {
   "cell_type": "code",
   "execution_count": 40,
   "id": "f1aa6eb7",
   "metadata": {},
   "outputs": [
    {
     "data": {
      "image/png": "[encoded data removed]",
      "text/plain": [
       "<Figure size 1500x600 with 1 Axes>"
      ]
     },
     "metadata": {},
     "output_type": "display_data"
    }
   ],
   "source": [
    "plt.figure(figsize=(15, 6))\n",
    "plt.plot(karachi_skill_frequency.index, karachi_skill_frequency.values)\n",
    "plt.xlabel('Skills')\n",
    "plt.ylabel('Frequency')\n",
    "plt.xticks()\n",
    "plt.title('Skill Frequency in Jobs - Karachi')\n",
    "plt.show()"
   ]
  }
 ],
 "metadata": {
  "kernelspec": {
   "display_name": "Python 3",
   "language": "python",
   "name": "python3"
  },
  "language_info": {
   "codemirror_mode": {
    "name": "ipython",
    "version": 3
   },
   "file_extension": ".py",
   "mimetype": "text/x-python",
   "name": "python",
   "nbconvert_exporter": "python",
   "pygments_lexer": "ipython3",
   "version": "3.12.5"
  }
 },
 "nbformat": 4,
 "nbformat_minor": 5
}
